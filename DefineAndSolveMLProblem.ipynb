{
 "cells": [
  {
   "cell_type": "markdown",
   "metadata": {},
   "source": [
    "# Lab 8: Define and Solve an ML Problem of Your Choosing"
   ]
  },
  {
   "cell_type": "code",
   "execution_count": 444,
   "metadata": {},
   "outputs": [],
   "source": [
    "import pandas as pd\n",
    "import numpy as np\n",
    "import os \n",
    "import matplotlib.pyplot as plt\n",
    "import seaborn as sns"
   ]
  },
  {
   "cell_type": "markdown",
   "metadata": {},
   "source": [
    "In this lab assignment, you will follow the machine learning life cycle and implement a model to solve a machine learning problem of your choosing. You will select a data set and choose a predictive problem that the data set supports.  You will then inspect the data with your problem in mind and begin to formulate a  project plan. You will then implement the machine learning project plan. \n",
    "\n",
    "You will complete the following tasks:\n",
    "\n",
    "1. Build Your DataFrame\n",
    "2. Define Your ML Problem\n",
    "3. Perform exploratory data analysis to understand your data.\n",
    "4. Define Your Project Plan\n",
    "5. Implement Your Project Plan:\n",
    "    * Prepare your data for your model.\n",
    "    * Fit your model to the training data and evaluate your model.\n",
    "    * Improve your model's performance."
   ]
  },
  {
   "cell_type": "markdown",
   "metadata": {},
   "source": [
    "## Part 1: Build Your DataFrame\n",
    "\n",
    "You will have the option to choose one of four data sets that you have worked with in this program:\n",
    "\n",
    "* The \"census\" data set that contains Census information from 1994: `censusData.csv`\n",
    "* Airbnb NYC \"listings\" data set: `airbnbListingsData.csv`\n",
    "* World Happiness Report (WHR) data set: `WHR2018Chapter2OnlineData.csv`\n",
    "* Book Review data set: `bookReviewsData.csv`\n",
    "\n",
    "Note that these are variations of the data sets that you have worked with in this program. For example, some do not include some of the preprocessing necessary for specific models. \n",
    "\n",
    "#### Load a Data Set and Save it as a Pandas DataFrame\n",
    "\n",
    "The code cell below contains filenames (path + filename) for each of the four data sets available to you.\n",
    "\n",
    "<b>Task:</b> In the code cell below, use the same method you have been using to load the data using `pd.read_csv()` and save it to DataFrame `df`. \n",
    "\n",
    "You can load each file as a new DataFrame to inspect the data before choosing your data set."
   ]
  },
  {
   "cell_type": "code",
   "execution_count": 445,
   "metadata": {},
   "outputs": [
    {
     "data": {
      "text/html": [
       "<div>\n",
       "<style scoped>\n",
       "    .dataframe tbody tr th:only-of-type {\n",
       "        vertical-align: middle;\n",
       "    }\n",
       "\n",
       "    .dataframe tbody tr th {\n",
       "        vertical-align: top;\n",
       "    }\n",
       "\n",
       "    .dataframe thead th {\n",
       "        text-align: right;\n",
       "    }\n",
       "</style>\n",
       "<table border=\"1\" class=\"dataframe\">\n",
       "  <thead>\n",
       "    <tr style=\"text-align: right;\">\n",
       "      <th></th>\n",
       "      <th>country</th>\n",
       "      <th>year</th>\n",
       "      <th>Life Ladder</th>\n",
       "      <th>Log GDP per capita</th>\n",
       "      <th>Social support</th>\n",
       "      <th>Healthy life expectancy at birth</th>\n",
       "      <th>Freedom to make life choices</th>\n",
       "      <th>Generosity</th>\n",
       "      <th>Perceptions of corruption</th>\n",
       "      <th>Positive affect</th>\n",
       "      <th>Negative affect</th>\n",
       "      <th>Confidence in national government</th>\n",
       "      <th>Democratic Quality</th>\n",
       "      <th>Delivery Quality</th>\n",
       "      <th>Standard deviation of ladder by country-year</th>\n",
       "      <th>Standard deviation/Mean of ladder by country-year</th>\n",
       "      <th>GINI index (World Bank estimate)</th>\n",
       "      <th>GINI index (World Bank estimate), average 2000-15</th>\n",
       "      <th>gini of household income reported in Gallup, by wp5-year</th>\n",
       "    </tr>\n",
       "  </thead>\n",
       "  <tbody>\n",
       "    <tr>\n",
       "      <th>0</th>\n",
       "      <td>Afghanistan</td>\n",
       "      <td>2008</td>\n",
       "      <td>3.723590</td>\n",
       "      <td>7.168690</td>\n",
       "      <td>0.450662</td>\n",
       "      <td>49.209663</td>\n",
       "      <td>0.718114</td>\n",
       "      <td>0.181819</td>\n",
       "      <td>0.881686</td>\n",
       "      <td>0.517637</td>\n",
       "      <td>0.258195</td>\n",
       "      <td>0.612072</td>\n",
       "      <td>-1.929690</td>\n",
       "      <td>-1.655084</td>\n",
       "      <td>1.774662</td>\n",
       "      <td>0.476600</td>\n",
       "      <td>NaN</td>\n",
       "      <td>NaN</td>\n",
       "      <td>NaN</td>\n",
       "    </tr>\n",
       "    <tr>\n",
       "      <th>1</th>\n",
       "      <td>Afghanistan</td>\n",
       "      <td>2009</td>\n",
       "      <td>4.401778</td>\n",
       "      <td>7.333790</td>\n",
       "      <td>0.552308</td>\n",
       "      <td>49.624432</td>\n",
       "      <td>0.678896</td>\n",
       "      <td>0.203614</td>\n",
       "      <td>0.850035</td>\n",
       "      <td>0.583926</td>\n",
       "      <td>0.237092</td>\n",
       "      <td>0.611545</td>\n",
       "      <td>-2.044093</td>\n",
       "      <td>-1.635025</td>\n",
       "      <td>1.722688</td>\n",
       "      <td>0.391362</td>\n",
       "      <td>NaN</td>\n",
       "      <td>NaN</td>\n",
       "      <td>0.441906</td>\n",
       "    </tr>\n",
       "    <tr>\n",
       "      <th>2</th>\n",
       "      <td>Afghanistan</td>\n",
       "      <td>2010</td>\n",
       "      <td>4.758381</td>\n",
       "      <td>7.386629</td>\n",
       "      <td>0.539075</td>\n",
       "      <td>50.008961</td>\n",
       "      <td>0.600127</td>\n",
       "      <td>0.137630</td>\n",
       "      <td>0.706766</td>\n",
       "      <td>0.618265</td>\n",
       "      <td>0.275324</td>\n",
       "      <td>0.299357</td>\n",
       "      <td>-1.991810</td>\n",
       "      <td>-1.617176</td>\n",
       "      <td>1.878622</td>\n",
       "      <td>0.394803</td>\n",
       "      <td>NaN</td>\n",
       "      <td>NaN</td>\n",
       "      <td>0.327318</td>\n",
       "    </tr>\n",
       "    <tr>\n",
       "      <th>3</th>\n",
       "      <td>Afghanistan</td>\n",
       "      <td>2011</td>\n",
       "      <td>3.831719</td>\n",
       "      <td>7.415019</td>\n",
       "      <td>0.521104</td>\n",
       "      <td>50.367298</td>\n",
       "      <td>0.495901</td>\n",
       "      <td>0.175329</td>\n",
       "      <td>0.731109</td>\n",
       "      <td>0.611387</td>\n",
       "      <td>0.267175</td>\n",
       "      <td>0.307386</td>\n",
       "      <td>-1.919018</td>\n",
       "      <td>-1.616221</td>\n",
       "      <td>1.785360</td>\n",
       "      <td>0.465942</td>\n",
       "      <td>NaN</td>\n",
       "      <td>NaN</td>\n",
       "      <td>0.336764</td>\n",
       "    </tr>\n",
       "    <tr>\n",
       "      <th>4</th>\n",
       "      <td>Afghanistan</td>\n",
       "      <td>2012</td>\n",
       "      <td>3.782938</td>\n",
       "      <td>7.517126</td>\n",
       "      <td>0.520637</td>\n",
       "      <td>50.709263</td>\n",
       "      <td>0.530935</td>\n",
       "      <td>0.247159</td>\n",
       "      <td>0.775620</td>\n",
       "      <td>0.710385</td>\n",
       "      <td>0.267919</td>\n",
       "      <td>0.435440</td>\n",
       "      <td>-1.842996</td>\n",
       "      <td>-1.404078</td>\n",
       "      <td>1.798283</td>\n",
       "      <td>0.475367</td>\n",
       "      <td>NaN</td>\n",
       "      <td>NaN</td>\n",
       "      <td>0.344540</td>\n",
       "    </tr>\n",
       "    <tr>\n",
       "      <th>5</th>\n",
       "      <td>Afghanistan</td>\n",
       "      <td>2013</td>\n",
       "      <td>3.572100</td>\n",
       "      <td>7.503376</td>\n",
       "      <td>0.483552</td>\n",
       "      <td>51.042980</td>\n",
       "      <td>0.577955</td>\n",
       "      <td>0.074735</td>\n",
       "      <td>0.823204</td>\n",
       "      <td>0.620585</td>\n",
       "      <td>0.273328</td>\n",
       "      <td>0.482847</td>\n",
       "      <td>-1.879709</td>\n",
       "      <td>-1.403036</td>\n",
       "      <td>1.223690</td>\n",
       "      <td>0.342569</td>\n",
       "      <td>NaN</td>\n",
       "      <td>NaN</td>\n",
       "      <td>0.304368</td>\n",
       "    </tr>\n",
       "    <tr>\n",
       "      <th>6</th>\n",
       "      <td>Afghanistan</td>\n",
       "      <td>2014</td>\n",
       "      <td>3.130896</td>\n",
       "      <td>7.484583</td>\n",
       "      <td>0.525568</td>\n",
       "      <td>51.370525</td>\n",
       "      <td>0.508514</td>\n",
       "      <td>0.118579</td>\n",
       "      <td>0.871242</td>\n",
       "      <td>0.531691</td>\n",
       "      <td>0.374861</td>\n",
       "      <td>0.409048</td>\n",
       "      <td>-1.773257</td>\n",
       "      <td>-1.312503</td>\n",
       "      <td>1.395396</td>\n",
       "      <td>0.445686</td>\n",
       "      <td>NaN</td>\n",
       "      <td>NaN</td>\n",
       "      <td>0.413974</td>\n",
       "    </tr>\n",
       "    <tr>\n",
       "      <th>7</th>\n",
       "      <td>Afghanistan</td>\n",
       "      <td>2015</td>\n",
       "      <td>3.982855</td>\n",
       "      <td>7.466215</td>\n",
       "      <td>0.528597</td>\n",
       "      <td>51.693527</td>\n",
       "      <td>0.388928</td>\n",
       "      <td>0.094686</td>\n",
       "      <td>0.880638</td>\n",
       "      <td>0.553553</td>\n",
       "      <td>0.339276</td>\n",
       "      <td>0.260557</td>\n",
       "      <td>-1.844364</td>\n",
       "      <td>-1.291594</td>\n",
       "      <td>2.160618</td>\n",
       "      <td>0.542480</td>\n",
       "      <td>NaN</td>\n",
       "      <td>NaN</td>\n",
       "      <td>0.596918</td>\n",
       "    </tr>\n",
       "    <tr>\n",
       "      <th>8</th>\n",
       "      <td>Afghanistan</td>\n",
       "      <td>2016</td>\n",
       "      <td>4.220169</td>\n",
       "      <td>7.461401</td>\n",
       "      <td>0.559072</td>\n",
       "      <td>52.016529</td>\n",
       "      <td>0.522566</td>\n",
       "      <td>0.057072</td>\n",
       "      <td>0.793246</td>\n",
       "      <td>0.564953</td>\n",
       "      <td>0.348332</td>\n",
       "      <td>0.324990</td>\n",
       "      <td>-1.917693</td>\n",
       "      <td>-1.432548</td>\n",
       "      <td>1.796219</td>\n",
       "      <td>0.425627</td>\n",
       "      <td>NaN</td>\n",
       "      <td>NaN</td>\n",
       "      <td>0.418629</td>\n",
       "    </tr>\n",
       "    <tr>\n",
       "      <th>9</th>\n",
       "      <td>Afghanistan</td>\n",
       "      <td>2017</td>\n",
       "      <td>2.661718</td>\n",
       "      <td>7.460144</td>\n",
       "      <td>0.490880</td>\n",
       "      <td>52.339527</td>\n",
       "      <td>0.427011</td>\n",
       "      <td>-0.106340</td>\n",
       "      <td>0.954393</td>\n",
       "      <td>0.496349</td>\n",
       "      <td>0.371326</td>\n",
       "      <td>0.261179</td>\n",
       "      <td>NaN</td>\n",
       "      <td>NaN</td>\n",
       "      <td>1.454051</td>\n",
       "      <td>0.546283</td>\n",
       "      <td>NaN</td>\n",
       "      <td>NaN</td>\n",
       "      <td>0.286599</td>\n",
       "    </tr>\n",
       "  </tbody>\n",
       "</table>\n",
       "</div>"
      ],
      "text/plain": [
       "       country  year  Life Ladder  Log GDP per capita  Social support  \\\n",
       "0  Afghanistan  2008     3.723590            7.168690        0.450662   \n",
       "1  Afghanistan  2009     4.401778            7.333790        0.552308   \n",
       "2  Afghanistan  2010     4.758381            7.386629        0.539075   \n",
       "3  Afghanistan  2011     3.831719            7.415019        0.521104   \n",
       "4  Afghanistan  2012     3.782938            7.517126        0.520637   \n",
       "5  Afghanistan  2013     3.572100            7.503376        0.483552   \n",
       "6  Afghanistan  2014     3.130896            7.484583        0.525568   \n",
       "7  Afghanistan  2015     3.982855            7.466215        0.528597   \n",
       "8  Afghanistan  2016     4.220169            7.461401        0.559072   \n",
       "9  Afghanistan  2017     2.661718            7.460144        0.490880   \n",
       "\n",
       "   Healthy life expectancy at birth  Freedom to make life choices  Generosity  \\\n",
       "0                         49.209663                      0.718114    0.181819   \n",
       "1                         49.624432                      0.678896    0.203614   \n",
       "2                         50.008961                      0.600127    0.137630   \n",
       "3                         50.367298                      0.495901    0.175329   \n",
       "4                         50.709263                      0.530935    0.247159   \n",
       "5                         51.042980                      0.577955    0.074735   \n",
       "6                         51.370525                      0.508514    0.118579   \n",
       "7                         51.693527                      0.388928    0.094686   \n",
       "8                         52.016529                      0.522566    0.057072   \n",
       "9                         52.339527                      0.427011   -0.106340   \n",
       "\n",
       "   Perceptions of corruption  Positive affect  Negative affect  \\\n",
       "0                   0.881686         0.517637         0.258195   \n",
       "1                   0.850035         0.583926         0.237092   \n",
       "2                   0.706766         0.618265         0.275324   \n",
       "3                   0.731109         0.611387         0.267175   \n",
       "4                   0.775620         0.710385         0.267919   \n",
       "5                   0.823204         0.620585         0.273328   \n",
       "6                   0.871242         0.531691         0.374861   \n",
       "7                   0.880638         0.553553         0.339276   \n",
       "8                   0.793246         0.564953         0.348332   \n",
       "9                   0.954393         0.496349         0.371326   \n",
       "\n",
       "   Confidence in national government  Democratic Quality  Delivery Quality  \\\n",
       "0                           0.612072           -1.929690         -1.655084   \n",
       "1                           0.611545           -2.044093         -1.635025   \n",
       "2                           0.299357           -1.991810         -1.617176   \n",
       "3                           0.307386           -1.919018         -1.616221   \n",
       "4                           0.435440           -1.842996         -1.404078   \n",
       "5                           0.482847           -1.879709         -1.403036   \n",
       "6                           0.409048           -1.773257         -1.312503   \n",
       "7                           0.260557           -1.844364         -1.291594   \n",
       "8                           0.324990           -1.917693         -1.432548   \n",
       "9                           0.261179                 NaN               NaN   \n",
       "\n",
       "   Standard deviation of ladder by country-year  \\\n",
       "0                                      1.774662   \n",
       "1                                      1.722688   \n",
       "2                                      1.878622   \n",
       "3                                      1.785360   \n",
       "4                                      1.798283   \n",
       "5                                      1.223690   \n",
       "6                                      1.395396   \n",
       "7                                      2.160618   \n",
       "8                                      1.796219   \n",
       "9                                      1.454051   \n",
       "\n",
       "   Standard deviation/Mean of ladder by country-year  \\\n",
       "0                                           0.476600   \n",
       "1                                           0.391362   \n",
       "2                                           0.394803   \n",
       "3                                           0.465942   \n",
       "4                                           0.475367   \n",
       "5                                           0.342569   \n",
       "6                                           0.445686   \n",
       "7                                           0.542480   \n",
       "8                                           0.425627   \n",
       "9                                           0.546283   \n",
       "\n",
       "   GINI index (World Bank estimate)  \\\n",
       "0                               NaN   \n",
       "1                               NaN   \n",
       "2                               NaN   \n",
       "3                               NaN   \n",
       "4                               NaN   \n",
       "5                               NaN   \n",
       "6                               NaN   \n",
       "7                               NaN   \n",
       "8                               NaN   \n",
       "9                               NaN   \n",
       "\n",
       "   GINI index (World Bank estimate), average 2000-15  \\\n",
       "0                                                NaN   \n",
       "1                                                NaN   \n",
       "2                                                NaN   \n",
       "3                                                NaN   \n",
       "4                                                NaN   \n",
       "5                                                NaN   \n",
       "6                                                NaN   \n",
       "7                                                NaN   \n",
       "8                                                NaN   \n",
       "9                                                NaN   \n",
       "\n",
       "   gini of household income reported in Gallup, by wp5-year  \n",
       "0                                                NaN         \n",
       "1                                           0.441906         \n",
       "2                                           0.327318         \n",
       "3                                           0.336764         \n",
       "4                                           0.344540         \n",
       "5                                           0.304368         \n",
       "6                                           0.413974         \n",
       "7                                           0.596918         \n",
       "8                                           0.418629         \n",
       "9                                           0.286599         "
      ]
     },
     "execution_count": 445,
     "metadata": {},
     "output_type": "execute_result"
    }
   ],
   "source": [
    "# File names of the four data sets\n",
    "adultDataSet_filename = os.path.join(os.getcwd(), \"data\", \"censusData.csv\")\n",
    "airbnbDataSet_filename = os.path.join(os.getcwd(), \"data\", \"airbnbListingsData.csv\")\n",
    "WHRDataSet_filename = os.path.join(os.getcwd(), \"data\", \"WHR2018Chapter2OnlineData.csv\")\n",
    "bookReviewDataSet_filename = os.path.join(os.getcwd(), \"data\", \"bookReviewsData.csv\")\n",
    "\n",
    "df = pd.read_csv(WHRDataSet_filename)\n",
    "\n",
    "df.head(10)"
   ]
  },
  {
   "cell_type": "markdown",
   "metadata": {},
   "source": [
    "## Part 2: Define Your ML Problem\n",
    "\n",
    "Next you will formulate your ML Problem. In the markdown cell below, answer the following questions:\n",
    "\n",
    "1. List the data set you have chosen.\n",
    "2. What will you be predicting? What is the label?\n",
    "3. Is this a supervised or unsupervised learning problem? Is this a clustering, classification or regression problem? Is it a binary classificaiton or multi-class classifiction problem?\n",
    "4. What are your features? (note: this list may change after your explore your data)\n",
    "5. Explain why this is an important problem. In other words, how would a company create value with a model that predicts this label?"
   ]
  },
  {
   "cell_type": "markdown",
   "metadata": {},
   "source": [
    "1. World Happiness Report\n",
    "2. I will be predicting the democratic quality of different countries based on economic and social factors. \n",
    "3. This is a supervised learning problem that involves regression. This isn't a binary or multiclass problem.\n",
    "4. The features will include confidence in national government, Social support, GINI index, perceptions of corruption, log GDP per capita, and freedom to make life choices\n",
    "5. This is an important problem because many things can be done knowing how multiple factors determine the quality of a country's democratic quality. It demonstrates how much people trust their government, and the fairness of the government in terms of people's quality of life through social support and freedom of choices. This can also be seen in terms of corruption and income inequality which all attribute to the democratic quality. If resources and practices are allocated from developed countries to developing and underdeveloped countries, these countries could improve in numerous areas which would cause an increase in happiness as well. Finding out how correlated all these features are to the democratic quality would further which areas could be improved on first. I also believe these factors are strongly or at least moderately correlated with this label."
   ]
  },
  {
   "cell_type": "markdown",
   "metadata": {},
   "source": [
    "## Part 3: Understand Your Data\n",
    "\n",
    "The next step is to perform exploratory data analysis. Inspect and analyze your data set with your machine learning problem in mind. Consider the following as you inspect your data:\n",
    "\n",
    "1. What data preparation techniques would you like to use? These data preparation techniques may include:\n",
    "\n",
    "    * addressing missingness, such as replacing missing values with means\n",
    "    * finding and replacing outliers\n",
    "    * renaming features and labels\n",
    "    * finding and replacing outliers\n",
    "    * performing feature engineering techniques such as one-hot encoding on categorical features\n",
    "    * selecting appropriate features and removing irrelevant features\n",
    "    * performing specific data cleaning and preprocessing techniques for an NLP problem\n",
    "    * addressing class imbalance in your data sample to promote fair AI\n",
    "    \n",
    "\n",
    "2. What machine learning model (or models) you would like to use that is suitable for your predictive problem and data?\n",
    "    * Are there other data preparation techniques that you will need to apply to build a balanced modeling data set for your problem and model? For example, will you need to scale your data?\n",
    " \n",
    " \n",
    "3. How will you evaluate and improve the model's performance?\n",
    "    * Are there specific evaluation metrics and methods that are appropriate for your model?\n",
    "    \n",
    "\n",
    "Think of the different techniques you have used to inspect and analyze your data in this course. These include using Pandas to apply data filters, using the Pandas `describe()` method to get insight into key statistics for each column, using the Pandas `dtypes` property to inspect the data type of each column, and using Matplotlib and Seaborn to detect outliers and visualize relationships between features and labels. If you are working on a classification problem, use techniques you have learned to determine if there is class imbalance.\n",
    "\n",
    "<b>Task</b>: Use the techniques you have learned in this course to inspect and analyze your data. You can import additional packages that you have used in this course that you will need to perform this task.\n",
    "\n",
    "<b>Note</b>: You can add code cells if needed by going to the <b>Insert</b> menu and clicking on <b>Insert Cell Below</b> in the drop-drown menu."
   ]
  },
  {
   "cell_type": "code",
   "execution_count": 446,
   "metadata": {},
   "outputs": [
    {
     "name": "stdout",
     "output_type": "stream",
     "text": [
      "data types: \n",
      " country                object\n",
      "year                    int64\n",
      "LogGDP                float64\n",
      "Support               float64\n",
      "GovConfidence         float64\n",
      "Freedom               float64\n",
      "Democratic Quality    float64\n",
      "Corruption            float64\n",
      "GINI                  float64\n",
      "dtype: object \n",
      "\n",
      "        country  year    LogGDP   Support  GovConfidence   Freedom  \\\n",
      "6   Afghanistan  2014  7.484583  0.525568       0.409048  0.508514   \n",
      "7   Afghanistan  2015  7.466215  0.528597       0.260557  0.388928   \n",
      "8   Afghanistan  2016  7.461401  0.559072       0.324990  0.522566   \n",
      "9   Afghanistan  2017  7.460144  0.490880       0.261179  0.427011   \n",
      "16      Albania  2014  9.278097  0.625587       0.498786  0.734648   \n",
      "17      Albania  2015  9.303031  0.639356       0.506978  0.703851   \n",
      "18      Albania  2016  9.337774  0.638411       0.400910  0.729819   \n",
      "19      Albania  2017  9.373718  0.637698       0.457738  0.749611   \n",
      "23      Algeria  2014  9.509210  0.818189            NaN       NaN   \n",
      "24      Algeria  2016  9.541166  0.748588            NaN       NaN   \n",
      "\n",
      "    Democratic Quality  Corruption     GINI  \n",
      "6            -1.773257    0.871242      NaN  \n",
      "7            -1.844364    0.880638      NaN  \n",
      "8            -1.917693    0.793246      NaN  \n",
      "9                  NaN    0.954393      NaN  \n",
      "16            0.314873    0.882704  0.30325  \n",
      "17            0.251629    0.884793  0.30325  \n",
      "18            0.208456    0.901071  0.30325  \n",
      "19                 NaN    0.876135  0.30325  \n",
      "23           -1.002867         NaN  0.27600  \n",
      "24           -1.008262         NaN  0.27600   \n",
      "\n",
      "null values:\n",
      " country                 0\n",
      "year                    0\n",
      "LogGDP                 17\n",
      "Support                 5\n",
      "GovConfidence          50\n",
      "Freedom                13\n",
      "Democratic Quality    150\n",
      "Corruption             42\n",
      "GINI                   67\n",
      "dtype: int64 \n",
      "\n",
      "cleaned null:\n",
      " country               0\n",
      "year                  0\n",
      "LogGDP                0\n",
      "Support               0\n",
      "GovConfidence         0\n",
      "Freedom               0\n",
      "Democratic Quality    0\n",
      "Corruption            0\n",
      "GINI                  0\n",
      "dtype: int64 \n",
      "\n"
     ]
    }
   ],
   "source": [
    "#renaming features and labels\n",
    "cols = ['country', 'year',\n",
    "        'Log GDP per capita', 'Social support',\n",
    "        'Confidence in national government', \n",
    "        'Freedom to make life choices', \n",
    "        'Democratic Quality', 'Perceptions of corruption', \n",
    "        'GINI index (World Bank estimate), average 2000-15']\n",
    "renamed = {'Confidence in national government': 'GovConfidence', \n",
    "            'Log GDP per capita': 'LogGDP', \n",
    "            'Social support': 'Support', \n",
    "            'Freedom to make life choices': 'Freedom', \n",
    "            'Perceptions of corruption': 'Corruption', \n",
    "            'GINI index (World Bank estimate), average 2000-15': 'GINI',\n",
    "            }\n",
    "\n",
    "#changing range of years\n",
    "dfnew = df[cols].rename(renamed, axis=1)\n",
    "dflim = dfnew[dfnew.year.isin(range(2014,2018))].copy()\n",
    "print('data types: \\n', dflim.dtypes, '\\n')\n",
    "print(dflim.head(10), '\\n')\n",
    "\n",
    "#removing nullified vals\n",
    "print('null values:\\n', np.sum(dflim.isna()), '\\n')\n",
    "\n",
    "dflim['LogGDP'].fillna(value=dflim['LogGDP'].mean(), inplace=True)\n",
    "dflim['Support'].fillna(value=dflim['Support'].mean(), inplace=True)\n",
    "dflim['GovConfidence'].fillna(value=dflim['GovConfidence'].mean(), inplace=True)\n",
    "dflim['Corruption'].fillna(value=dflim['Corruption'].mean(), inplace=True)\n",
    "dflim['Freedom'].fillna(value=dflim['Freedom'].mean(), inplace=True)\n",
    "dflim['Democratic Quality'].fillna(value=dflim['Democratic Quality'].mean(), inplace=True)\n",
    "dflim['GINI'].fillna(value=dflim['GINI'].mean(), inplace=True)\n",
    "\n",
    "print('cleaned null:\\n', np.sum(dflim.isna()), '\\n')"
   ]
  },
  {
   "cell_type": "markdown",
   "metadata": {},
   "source": [
    "## Part 4: Define Your Project Plan\n",
    "\n",
    "Now that you understand your data, in the markdown cell below, define your plan to implement the remaining phases of the machine learning life cycle (data preparation, modeling, evaluation) to solve your ML problem. Answer the following questions:\n",
    "\n",
    "* Do you have a new feature list? If so, what are the features that you chose to keep and remove after inspecting the data? \n",
    "* Explain different data preparation techniques that you will use to prepare your data for modeling.\n",
    "* What is your model (or models)?\n",
    "* Describe your plan to train your model, analyze its performance and then improve the model. That is, describe your model building, validation and selection plan to produce a model that generalizes well to new data. "
   ]
  },
  {
   "cell_type": "markdown",
   "metadata": {},
   "source": [
    "I don't have a new feature list after inspecting the data. I could add more features but I am choosing to focus on economic and social factors. I will be using the logistic regression model because I am interested in how correlated these features are in attributing to the democratic quality for all countries. I could also use Decision Trees or Stochastic Gradient Descent if I find that a logistic regression model doesn't output very linear relationships, meaning a more complex relationship would have to be analyzed. To improve the model, I will see which features have correlation with the label and drop the features that aren't as correlated with it. I will build a logistic regression model that tests 25% of the data and trains with 75% of it. I will print values of the weights for each feature as well as the overall RMSE and R^2 scores and possibly test with more or less features based off of this. I will also graph the linear regression line as well."
   ]
  },
  {
   "cell_type": "markdown",
   "metadata": {},
   "source": [
    "## Part 5: Implement Your Project Plan\n",
    "\n",
    "<b>Task:</b> In the code cell below, import additional packages that you have used in this course that you will need to implement your project plan."
   ]
  },
  {
   "cell_type": "code",
   "execution_count": 447,
   "metadata": {},
   "outputs": [],
   "source": [
    "import seaborn as sns\n",
    "import matplotlib.pyplot as plt\n",
    "%matplotlib inline\n",
    "from sklearn.linear_model import LinearRegression\n",
    "from sklearn.model_selection import train_test_split\n",
    "from sklearn.metrics import mean_squared_error, r2_score"
   ]
  },
  {
   "cell_type": "markdown",
   "metadata": {},
   "source": [
    "<b>Task:</b> Use the rest of this notebook to carry out your project plan. \n",
    "\n",
    "You will:\n",
    "\n",
    "1. Prepare your data for your model.\n",
    "2. Fit your model to the training data and evaluate your model.\n",
    "3. Improve your model's performance by performing model selection and/or feature selection techniques to find best model for your problem.\n",
    "\n",
    "Add code cells below and populate the notebook with commentary, code, analyses, results, and figures as you see fit. "
   ]
  },
  {
   "cell_type": "code",
   "execution_count": 448,
   "metadata": {},
   "outputs": [],
   "source": [
    "independent = dflim.drop('country', axis=1)\n",
    "independent = independent.drop('year', axis=1)\n",
    "X = independent.drop('Democratic Quality', axis=1)\n",
    "y = dflim['Democratic Quality']"
   ]
  },
  {
   "cell_type": "code",
   "execution_count": 449,
   "metadata": {},
   "outputs": [],
   "source": [
    "X_train, X_test, y_train, y_test = train_test_split(X, y, test_size=0.15, random_state=123)"
   ]
  },
  {
   "cell_type": "code",
   "execution_count": 450,
   "metadata": {},
   "outputs": [],
   "source": [
    "model = LinearRegression()\n",
    "model.fit(X_train, y_train)\n",
    "predict_prob = model.predict(X_test)"
   ]
  },
  {
   "cell_type": "code",
   "execution_count": 451,
   "metadata": {},
   "outputs": [
    {
     "name": "stdout",
     "output_type": "stream",
     "text": [
      "Intercept: -2.917371917353627\n",
      "\n",
      "Weights:\n",
      "LogGDP 0.18595627463227174\n",
      "Support 0.6716277910910076\n",
      "GovConfidence -0.9323264561865704\n",
      "Freedom 1.6840707847185428\n",
      "Corruption -0.27258654170399876\n",
      "GINI -0.2434361831595194\n"
     ]
    }
   ],
   "source": [
    "print('Intercept:' , model.intercept_)\n",
    "print('\\nWeights:')\n",
    "\n",
    "i = 0\n",
    "for weight in model.coef_:\n",
    "    print(X.columns[i], weight)\n",
    "    i += 1"
   ]
  },
  {
   "cell_type": "code",
   "execution_count": 452,
   "metadata": {},
   "outputs": [
    {
     "name": "stdout",
     "output_type": "stream",
     "text": [
      "RMSE = 0.63\n",
      "R^2 = 0.32\n"
     ]
    }
   ],
   "source": [
    "print('RMSE = %.2f'\n",
    "      % np.sqrt(mean_squared_error(y_test, predict_prob)))\n",
    "print('R^2 = %.2f'\n",
    "      % r2_score(y_test, predict_prob))"
   ]
  },
  {
   "cell_type": "markdown",
   "metadata": {},
   "source": [
    "Since the R^2 score is low, is implies that all of the features together don't correlate strongly with the label democratic quality. The largest positive weight value is for the freedom feature. The largest negative weight is for the govconfidence feature, indicating a decrease in this means an increase democratic quality. I will drop the LogGDP, and GINI features since they have the least weight values which can indicate not having much correlation to the label."
   ]
  },
  {
   "cell_type": "code",
   "execution_count": 453,
   "metadata": {},
   "outputs": [
    {
     "name": "stdout",
     "output_type": "stream",
     "text": [
      "Index(['Support', 'GovConfidence', 'Freedom', 'GINI'], dtype='object')\n"
     ]
    }
   ],
   "source": [
    "independent = independent.drop('LogGDP', axis=1)\n",
    "independent = independent.drop('Corruption', axis=1)\n",
    "independent = independent.drop('Democratic Quality', axis=1)\n",
    "X = independent\n",
    "print(independent.columns)\n",
    "y = dflim['Democratic Quality']"
   ]
  },
  {
   "cell_type": "code",
   "execution_count": 454,
   "metadata": {},
   "outputs": [],
   "source": [
    "X_train2, X_test2, y_train2, y_test2 = train_test_split(X, y, test_size=0.15, random_state=123)"
   ]
  },
  {
   "cell_type": "code",
   "execution_count": 455,
   "metadata": {},
   "outputs": [],
   "source": [
    "model2 = LinearRegression()\n",
    "model2.fit(X_train2, y_train2)\n",
    "predict_prob2 = model2.predict(X_test2)"
   ]
  },
  {
   "cell_type": "code",
   "execution_count": 456,
   "metadata": {},
   "outputs": [
    {
     "name": "stdout",
     "output_type": "stream",
     "text": [
      "Intercept: -2.1860666124114054\n",
      "\n",
      "Weights:\n",
      "Support 1.5565663573270236\n",
      "GovConfidence -1.09437020240332\n",
      "Freedom 2.289155293070856\n",
      "GINI -1.0020797875742806\n"
     ]
    }
   ],
   "source": [
    "print('Intercept:' , model2.intercept_)\n",
    "print('\\nWeights:')\n",
    "\n",
    "i = 0\n",
    "for weight in model2.coef_:\n",
    "    print(X.columns[i], weight)\n",
    "    i += 1"
   ]
  },
  {
   "cell_type": "code",
   "execution_count": 457,
   "metadata": {},
   "outputs": [
    {
     "name": "stdout",
     "output_type": "stream",
     "text": [
      "RMSE = 0.65\n",
      "R^2 = 0.27\n"
     ]
    }
   ],
   "source": [
    "print('RMSE = %.2f'\n",
    "      % np.sqrt(mean_squared_error(y_test2, predict_prob2)))\n",
    "print('R^2 = %.2f'\n",
    "      % r2_score(y_test2, predict_prob2))"
   ]
  },
  {
   "cell_type": "markdown",
   "metadata": {},
   "source": [
    "Dropping these features didn't really change the R^2 or RMSE even though the weights have drastically increased in value. Since there aren't too many features left, I will try once more to cut down feature values and if this still doesn't improve the accuracy, I will use a different model to test with. This time, I will drop the column GINI and GovConfidence. I also lowered the test_size of all models to 15% and noticed they did slightly better."
   ]
  },
  {
   "cell_type": "code",
   "execution_count": 458,
   "metadata": {},
   "outputs": [
    {
     "name": "stdout",
     "output_type": "stream",
     "text": [
      "Index(['Support'], dtype='object')\n"
     ]
    }
   ],
   "source": [
    "independent = independent.drop('GINI', axis=1)\n",
    "independent = independent.drop('GovConfidence', axis=1)\n",
    "independent = independent.drop('Freedom', axis=1)\n",
    "X = independent\n",
    "print(independent.columns)\n",
    "y = dflim['Democratic Quality']"
   ]
  },
  {
   "cell_type": "code",
   "execution_count": 459,
   "metadata": {},
   "outputs": [],
   "source": [
    "X_train3, X_test3, y_train3, y_test3 = train_test_split(X, y, test_size=0.15, random_state=123)"
   ]
  },
  {
   "cell_type": "code",
   "execution_count": 460,
   "metadata": {},
   "outputs": [],
   "source": [
    "model3 = LinearRegression()\n",
    "model3.fit(X_train3, y_train3)\n",
    "predict_prob3 = model3.predict(X_test3)"
   ]
  },
  {
   "cell_type": "code",
   "execution_count": 461,
   "metadata": {},
   "outputs": [
    {
     "name": "stdout",
     "output_type": "stream",
     "text": [
      "Intercept: -2.447509314642797\n",
      "\n",
      "Weights:\n",
      "Support 2.894449784402975\n"
     ]
    }
   ],
   "source": [
    "print('Intercept:' , model3.intercept_)\n",
    "print('\\nWeights:')\n",
    "\n",
    "i = 0\n",
    "for weight in model3.coef_:\n",
    "    print(X.columns[i], weight)\n",
    "    i += 1"
   ]
  },
  {
   "cell_type": "code",
   "execution_count": 462,
   "metadata": {},
   "outputs": [
    {
     "name": "stdout",
     "output_type": "stream",
     "text": [
      "RMSE = 0.68\n",
      "R^2 = 0.21\n"
     ]
    }
   ],
   "source": [
    "print('RMSE = %.2f'\n",
    "      % np.sqrt(mean_squared_error(y_test3, predict_prob3)))\n",
    "print('R^2 = %.2f'\n",
    "      % r2_score(y_test3, predict_prob3))"
   ]
  },
  {
   "cell_type": "markdown",
   "metadata": {},
   "source": [
    "After testing with the previous columns dropped, I wondered if dropping the freedom feature would indicate anything but the accuracy still didn't improve. I will use a decision tree to capture the complexities between the relationship of these features and label."
   ]
  }
 ],
 "metadata": {
  "kernelspec": {
   "display_name": "Python 3 (ipykernel)",
   "language": "python",
   "name": "python3"
  },
  "language_info": {
   "codemirror_mode": {
    "name": "ipython",
    "version": 3
   },
   "file_extension": ".py",
   "mimetype": "text/x-python",
   "name": "python",
   "nbconvert_exporter": "python",
   "pygments_lexer": "ipython3",
   "version": "3.9.19"
  },
  "toc": {
   "base_numbering": 1,
   "nav_menu": {},
   "number_sections": false,
   "sideBar": true,
   "skip_h1_title": false,
   "title_cell": "Table of Contents",
   "title_sidebar": "Contents",
   "toc_cell": false,
   "toc_position": {},
   "toc_section_display": true,
   "toc_window_display": false
  },
  "varInspector": {
   "cols": {
    "lenName": 16,
    "lenType": 16,
    "lenVar": 40
   },
   "kernels_config": {
    "python": {
     "delete_cmd_postfix": "",
     "delete_cmd_prefix": "del ",
     "library": "var_list.py",
     "varRefreshCmd": "print(var_dic_list())"
    },
    "r": {
     "delete_cmd_postfix": ") ",
     "delete_cmd_prefix": "rm(",
     "library": "var_list.r",
     "varRefreshCmd": "cat(var_dic_list()) "
    }
   },
   "types_to_exclude": [
    "module",
    "function",
    "builtin_function_or_method",
    "instance",
    "_Feature"
   ],
   "window_display": false
  }
 },
 "nbformat": 4,
 "nbformat_minor": 4
}
